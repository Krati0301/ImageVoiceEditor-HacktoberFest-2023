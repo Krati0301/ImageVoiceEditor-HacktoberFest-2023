{
  "nbformat": 4,
  "nbformat_minor": 0,
  "metadata": {
    "colab": {
      "provenance": [],
      "authorship_tag": "ABX9TyPekXbd9G5uovak5wPVd1Gc"
    },
    "kernelspec": {
      "name": "python3",
      "display_name": "Python 3"
    },
    "language_info": {
      "name": "python"
    }
  },
  "cells": [
    {
      "cell_type": "code",
      "execution_count": null,
      "metadata": {
        "id": "gk8p1s8k-Ysq"
      },
      "outputs": [],
      "source": []
    }
  ]
}